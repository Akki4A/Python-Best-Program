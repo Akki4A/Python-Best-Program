{
 "cells": [
  {
   "cell_type": "markdown",
   "metadata": {},
   "source": [
    "# PRINT IN THE FORM:-\n"
   ]
  },
  {
   "cell_type": "raw",
   "metadata": {},
   "source": [
    "Twinkle,Twinkle,little star,\n",
    "        How I wonder what you are!\n",
    "        Up above the world so high,\n",
    "        Like a diamond in the sky.\n",
    "Twinkle,Twinkle,little star,\n",
    "    How I wonder what you are!"
   ]
  },
  {
   "cell_type": "code",
   "execution_count": 2,
   "metadata": {},
   "outputs": [
    {
     "name": "stdout",
     "output_type": "stream",
     "text": [
      "Twinkle,Twinkle,little star, \n",
      " \t How I wonder what you are!\n",
      "\t Up above the world so high, \n",
      "\t Like a diamond in the sky.\n",
      "Twinkle,Twinkle,little star,\n",
      "\t  How I wonder what you are!\n"
     ]
    }
   ],
   "source": [
    "print(\"Twinkle,Twinkle,little star, \\n \\t How I wonder what you are!\\n\\t Up above the world so high, \\n\\t Like a diamond in the sky.\\nTwinkle,Twinkle,little star,\\n\\t  How I wonder what you are!\")"
   ]
  },
  {
   "cell_type": "markdown",
   "metadata": {},
   "source": [
    "# user Input:-"
   ]
  },
  {
   "cell_type": "raw",
   "metadata": {},
   "source": [
    "Create a program that asks the user to enter their name and their age.\n",
    "Print out a message addressed to them that tells them the year that they will turn 100 years old."
   ]
  },
  {
   "cell_type": "code",
   "execution_count": 5,
   "metadata": {},
   "outputs": [
    {
     "name": "stdout",
     "output_type": "stream",
     "text": [
      "Enter the name:Ritika\n",
      "Enter the age:21\n",
      "Ritika will be 100 years at year 2099\n"
     ]
    }
   ],
   "source": [
    "name = input(\"Enter the name:\")\n",
    "age = int(input(\"Enter the age:\"))\n",
    "print( name+\" will be 100 years at year\",(2020+100-age))"
   ]
  },
  {
   "cell_type": "raw",
   "metadata": {},
   "source": [
    "Write a Python program that accepts an integer (n) and computes the value of n+nn+nnn. Go to the editor\n",
    "Sample value of n is 5 \n",
    "Expected Result : 615"
   ]
  },
  {
   "cell_type": "code",
   "execution_count": 6,
   "metadata": {},
   "outputs": [
    {
     "name": "stdout",
     "output_type": "stream",
     "text": [
      "Enter the integer:5\n",
      "615\n"
     ]
    }
   ],
   "source": [
    "n=int(input(\"Enter the integer:\"))\n",
    "n1=int (\"%s\" %n)\n",
    "n2=int (\"%s%s\"% (n,n))\n",
    "n3=int (\"%s%s%s\"% (n,n,n))\n",
    " \n",
    "print(n1+n2+n3)\n"
   ]
  },
  {
   "cell_type": "raw",
   "metadata": {},
   "source": [
    "Write a Python program that accepts an integer (n)  which is diagonalof square and computes area and perimeter of square . Go to the editor\n",
    "Sample value of n is 6 \n",
    "Area : 18\n",
    "perimeter:16     "
   ]
  },
  {
   "cell_type": "code",
   "execution_count": 18,
   "metadata": {},
   "outputs": [
    {
     "name": "stdout",
     "output_type": "stream",
     "text": [
      "Enter the value of diagonal:6\n",
      "Area: 18\n",
      "Perimeter: 16\n"
     ]
    }
   ],
   "source": [
    "S=int(input(\"Enter the value of diagonal:\"))\n",
    "Area= int((S/1.412)*(S/1.412))\n",
    "print('Area:',Area)\n",
    "print(\"Perimeter:\",int(4*S/1.412))"
   ]
  }
 ],
 "metadata": {
  "kernelspec": {
   "display_name": "Python 3",
   "language": "python",
   "name": "python3"
  },
  "language_info": {
   "codemirror_mode": {
    "name": "ipython",
    "version": 3
   },
   "file_extension": ".py",
   "mimetype": "text/x-python",
   "name": "python",
   "nbconvert_exporter": "python",
   "pygments_lexer": "ipython3",
   "version": "3.7.3"
  }
 },
 "nbformat": 4,
 "nbformat_minor": 2
}
